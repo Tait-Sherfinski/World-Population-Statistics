{
 "cells": [
  {
   "cell_type": "code",
   "execution_count": 2,
   "id": "f4d091f3",
   "metadata": {},
   "outputs": [
    {
     "ename": "AttributeError",
     "evalue": "module 'numpy' has no attribute 'ndarray'",
     "output_type": "error",
     "traceback": [
      "\u001b[31m---------------------------------------------------------------------------\u001b[39m",
      "\u001b[31mAttributeError\u001b[39m                            Traceback (most recent call last)",
      "\u001b[36mCell\u001b[39m\u001b[36m \u001b[39m\u001b[32mIn[2]\u001b[39m\u001b[32m, line 1\u001b[39m\n\u001b[32m----> \u001b[39m\u001b[32m1\u001b[39m \u001b[38;5;28;01mimport\u001b[39;00m\u001b[38;5;250m \u001b[39m\u001b[34;01mpandas\u001b[39;00m\u001b[38;5;250m \u001b[39m\u001b[38;5;28;01mas\u001b[39;00m\u001b[38;5;250m \u001b[39m\u001b[34;01mpd\u001b[39;00m\n\u001b[32m      2\u001b[39m \u001b[38;5;28;01mimport\u001b[39;00m\u001b[38;5;250m \u001b[39m\u001b[34;01mnumpy\u001b[39;00m\u001b[38;5;250m \u001b[39m\u001b[38;5;28;01mas\u001b[39;00m\u001b[38;5;250m \u001b[39m\u001b[34;01mnp\u001b[39;00m\n\u001b[32m      4\u001b[39m data = pd.read_csv(\u001b[33m\"\u001b[39m\u001b[33mworld_population.csv\u001b[39m\u001b[33m\"\u001b[39m)\n",
      "\u001b[36mFile \u001b[39m\u001b[32m~/.local/lib/python3.12/site-packages/pandas/__init__.py:14\u001b[39m\n\u001b[32m     12\u001b[39m \u001b[38;5;28;01mfor\u001b[39;00m _dependency \u001b[38;5;129;01min\u001b[39;00m _hard_dependencies:\n\u001b[32m     13\u001b[39m     \u001b[38;5;28;01mtry\u001b[39;00m:\n\u001b[32m---> \u001b[39m\u001b[32m14\u001b[39m         \u001b[38;5;28;43m__import__\u001b[39;49m\u001b[43m(\u001b[49m\u001b[43m_dependency\u001b[49m\u001b[43m)\u001b[49m\n\u001b[32m     15\u001b[39m     \u001b[38;5;28;01mexcept\u001b[39;00m \u001b[38;5;167;01mImportError\u001b[39;00m \u001b[38;5;28;01mas\u001b[39;00m _e:  \u001b[38;5;66;03m# pragma: no cover\u001b[39;00m\n\u001b[32m     16\u001b[39m         _missing_dependencies.append(\u001b[33mf\u001b[39m\u001b[33m\"\u001b[39m\u001b[38;5;132;01m{\u001b[39;00m_dependency\u001b[38;5;132;01m}\u001b[39;00m\u001b[33m: \u001b[39m\u001b[38;5;132;01m{\u001b[39;00m_e\u001b[38;5;132;01m}\u001b[39;00m\u001b[33m\"\u001b[39m)\n",
      "\u001b[36mFile \u001b[39m\u001b[32m~/.local/lib/python3.12/site-packages/numpy/__init__.py:298\u001b[39m\n\u001b[32m    295\u001b[39m \u001b[38;5;28;01mfrom\u001b[39;00m\u001b[38;5;250m \u001b[39m\u001b[34;01m.\u001b[39;00m\u001b[34;01m_array_api_info\u001b[39;00m\u001b[38;5;250m \u001b[39m\u001b[38;5;28;01mimport\u001b[39;00m __array_namespace_info__\n\u001b[32m    297\u001b[39m \u001b[38;5;66;03m# now that numpy core module is imported, can initialize limits\u001b[39;00m\n\u001b[32m--> \u001b[39m\u001b[32m298\u001b[39m \u001b[43m_core\u001b[49m\u001b[43m.\u001b[49m\u001b[43mgetlimits\u001b[49m\u001b[43m.\u001b[49m\u001b[43m_register_known_types\u001b[49m\u001b[43m(\u001b[49m\u001b[43m)\u001b[49m\n\u001b[32m    300\u001b[39m __all__ = \u001b[38;5;28mlist\u001b[39m(\n\u001b[32m    301\u001b[39m     __numpy_submodules__ |\n\u001b[32m    302\u001b[39m     \u001b[38;5;28mset\u001b[39m(_core.__all__) |\n\u001b[32m   (...)\u001b[39m\u001b[32m    318\u001b[39m     {\u001b[33m\"\u001b[39m\u001b[33memath\u001b[39m\u001b[33m\"\u001b[39m, \u001b[33m\"\u001b[39m\u001b[33mshow_config\u001b[39m\u001b[33m\"\u001b[39m, \u001b[33m\"\u001b[39m\u001b[33m__version__\u001b[39m\u001b[33m\"\u001b[39m, \u001b[33m\"\u001b[39m\u001b[33m__array_namespace_info__\u001b[39m\u001b[33m\"\u001b[39m}\n\u001b[32m    319\u001b[39m )\n\u001b[32m    321\u001b[39m \u001b[38;5;66;03m# Filter out Cython harmless warnings\u001b[39;00m\n",
      "\u001b[36mFile \u001b[39m\u001b[32m~/.local/lib/python3.12/site-packages/numpy/_core/getlimits.py:235\u001b[39m, in \u001b[36m_register_known_types\u001b[39m\u001b[34m()\u001b[39m\n\u001b[32m    233\u001b[39m \u001b[38;5;28;01mwith\u001b[39;00m numeric.errstate(\u001b[38;5;28mall\u001b[39m=\u001b[33m'\u001b[39m\u001b[33mignore\u001b[39m\u001b[33m'\u001b[39m):\n\u001b[32m    234\u001b[39m     huge_f128 = (ld(\u001b[32m1\u001b[39m) - epsneg_f128) / tiny_f128 * ld(\u001b[32m4\u001b[39m)\n\u001b[32m--> \u001b[39m\u001b[32m235\u001b[39m float128_ma = \u001b[43mMachArLike\u001b[49m\u001b[43m(\u001b[49m\u001b[43mld\u001b[49m\u001b[43m,\u001b[49m\n\u001b[32m    236\u001b[39m \u001b[43m                         \u001b[49m\u001b[43mmachep\u001b[49m\u001b[43m=\u001b[49m\u001b[43m-\u001b[49m\u001b[32;43m112\u001b[39;49m\u001b[43m,\u001b[49m\n\u001b[32m    237\u001b[39m \u001b[43m                         \u001b[49m\u001b[43mnegep\u001b[49m\u001b[43m=\u001b[49m\u001b[43m-\u001b[49m\u001b[32;43m113\u001b[39;49m\u001b[43m,\u001b[49m\n\u001b[32m    238\u001b[39m \u001b[43m                         \u001b[49m\u001b[43mminexp\u001b[49m\u001b[43m=\u001b[49m\u001b[43m-\u001b[49m\u001b[32;43m16382\u001b[39;49m\u001b[43m,\u001b[49m\n\u001b[32m    239\u001b[39m \u001b[43m                         \u001b[49m\u001b[43mmaxexp\u001b[49m\u001b[43m=\u001b[49m\u001b[32;43m16384\u001b[39;49m\u001b[43m,\u001b[49m\n\u001b[32m    240\u001b[39m \u001b[43m                         \u001b[49m\u001b[43mit\u001b[49m\u001b[43m=\u001b[49m\u001b[32;43m112\u001b[39;49m\u001b[43m,\u001b[49m\n\u001b[32m    241\u001b[39m \u001b[43m                         \u001b[49m\u001b[43miexp\u001b[49m\u001b[43m=\u001b[49m\u001b[32;43m15\u001b[39;49m\u001b[43m,\u001b[49m\n\u001b[32m    242\u001b[39m \u001b[43m                         \u001b[49m\u001b[43mibeta\u001b[49m\u001b[43m=\u001b[49m\u001b[32;43m2\u001b[39;49m\u001b[43m,\u001b[49m\n\u001b[32m    243\u001b[39m \u001b[43m                         \u001b[49m\u001b[43mirnd\u001b[49m\u001b[43m=\u001b[49m\u001b[32;43m5\u001b[39;49m\u001b[43m,\u001b[49m\n\u001b[32m    244\u001b[39m \u001b[43m                         \u001b[49m\u001b[43mngrd\u001b[49m\u001b[43m=\u001b[49m\u001b[32;43m0\u001b[39;49m\u001b[43m,\u001b[49m\n\u001b[32m    245\u001b[39m \u001b[43m                         \u001b[49m\u001b[43meps\u001b[49m\u001b[43m=\u001b[49m\u001b[43mexp2\u001b[49m\u001b[43m(\u001b[49m\u001b[43mld\u001b[49m\u001b[43m(\u001b[49m\u001b[43m-\u001b[49m\u001b[32;43m112\u001b[39;49m\u001b[43m)\u001b[49m\u001b[43m)\u001b[49m\u001b[43m,\u001b[49m\n\u001b[32m    246\u001b[39m \u001b[43m                         \u001b[49m\u001b[43mepsneg\u001b[49m\u001b[43m=\u001b[49m\u001b[43mepsneg_f128\u001b[49m\u001b[43m,\u001b[49m\n\u001b[32m    247\u001b[39m \u001b[43m                         \u001b[49m\u001b[43mhuge\u001b[49m\u001b[43m=\u001b[49m\u001b[43mhuge_f128\u001b[49m\u001b[43m,\u001b[49m\n\u001b[32m    248\u001b[39m \u001b[43m                         \u001b[49m\u001b[43mtiny\u001b[49m\u001b[43m=\u001b[49m\u001b[43mtiny_f128\u001b[49m\u001b[43m)\u001b[49m\n\u001b[32m    249\u001b[39m \u001b[38;5;66;03m# IEEE 754 128-bit binary float\u001b[39;00m\n\u001b[32m    250\u001b[39m _register_type(float128_ma,\n\u001b[32m    251\u001b[39m     \u001b[33mb\u001b[39m\u001b[33m'\u001b[39m\u001b[38;5;130;01m\\x9a\u001b[39;00m\u001b[38;5;130;01m\\x99\u001b[39;00m\u001b[38;5;130;01m\\x99\u001b[39;00m\u001b[38;5;130;01m\\x99\u001b[39;00m\u001b[38;5;130;01m\\x99\u001b[39;00m\u001b[38;5;130;01m\\x99\u001b[39;00m\u001b[38;5;130;01m\\x99\u001b[39;00m\u001b[38;5;130;01m\\x99\u001b[39;00m\u001b[38;5;130;01m\\x99\u001b[39;00m\u001b[38;5;130;01m\\x99\u001b[39;00m\u001b[38;5;130;01m\\x99\u001b[39;00m\u001b[38;5;130;01m\\x99\u001b[39;00m\u001b[38;5;130;01m\\x99\u001b[39;00m\u001b[38;5;130;01m\\x99\u001b[39;00m\u001b[38;5;130;01m\\xfb\u001b[39;00m\u001b[38;5;130;01m\\xbf\u001b[39;00m\u001b[33m'\u001b[39m)\n",
      "\u001b[36mFile \u001b[39m\u001b[32m~/.local/lib/python3.12/site-packages/numpy/_core/getlimits.py:56\u001b[39m, in \u001b[36mMachArLike.__init__\u001b[39m\u001b[34m(self, ftype, eps, epsneg, huge, tiny, ibeta, smallest_subnormal, **kwargs)\u001b[39m\n\u001b[32m     53\u001b[39m \u001b[38;5;28mself\u001b[39m.precision = \u001b[38;5;28mint\u001b[39m(-log10(\u001b[38;5;28mself\u001b[39m.eps))\n\u001b[32m     54\u001b[39m \u001b[38;5;28mself\u001b[39m.resolution = \u001b[38;5;28mself\u001b[39m._float_to_float(\n\u001b[32m     55\u001b[39m     \u001b[38;5;28mself\u001b[39m._float_conv(\u001b[32m10\u001b[39m) ** (-\u001b[38;5;28mself\u001b[39m.precision))\n\u001b[32m---> \u001b[39m\u001b[32m56\u001b[39m \u001b[38;5;28mself\u001b[39m._str_eps = \u001b[38;5;28;43mself\u001b[39;49m\u001b[43m.\u001b[49m\u001b[43m_float_to_str\u001b[49m\u001b[43m(\u001b[49m\u001b[38;5;28;43mself\u001b[39;49m\u001b[43m.\u001b[49m\u001b[43meps\u001b[49m\u001b[43m)\u001b[49m\n\u001b[32m     57\u001b[39m \u001b[38;5;28mself\u001b[39m._str_epsneg = \u001b[38;5;28mself\u001b[39m._float_to_str(\u001b[38;5;28mself\u001b[39m.epsneg)\n\u001b[32m     58\u001b[39m \u001b[38;5;28mself\u001b[39m._str_xmin = \u001b[38;5;28mself\u001b[39m._float_to_str(\u001b[38;5;28mself\u001b[39m.xmin)\n",
      "\u001b[36mFile \u001b[39m\u001b[32m~/.local/lib/python3.12/site-packages/numpy/_core/getlimits.py:120\u001b[39m, in \u001b[36mMachArLike._float_to_str\u001b[39m\u001b[34m(self, value)\u001b[39m\n\u001b[32m    112\u001b[39m \u001b[38;5;28;01mdef\u001b[39;00m\u001b[38;5;250m \u001b[39m\u001b[34m_float_to_str\u001b[39m(\u001b[38;5;28mself\u001b[39m, value):\n\u001b[32m    113\u001b[39m \u001b[38;5;250m    \u001b[39m\u001b[33;03m\"\"\"Converts float to str.\u001b[39;00m\n\u001b[32m    114\u001b[39m \n\u001b[32m    115\u001b[39m \u001b[33;03m    Parameters\u001b[39;00m\n\u001b[32m   (...)\u001b[39m\u001b[32m    118\u001b[39m \u001b[33;03m        value to be converted.\u001b[39;00m\n\u001b[32m    119\u001b[39m \u001b[33;03m    \"\"\"\u001b[39;00m\n\u001b[32m--> \u001b[39m\u001b[32m120\u001b[39m     \u001b[38;5;28;01mreturn\u001b[39;00m \u001b[38;5;28;43mself\u001b[39;49m\u001b[43m.\u001b[49m\u001b[43mparams\u001b[49m\u001b[43m[\u001b[49m\u001b[33;43m'\u001b[39;49m\u001b[33;43mfmt\u001b[39;49m\u001b[33;43m'\u001b[39;49m\u001b[43m]\u001b[49m\u001b[43m \u001b[49m\u001b[43m%\u001b[49m\u001b[43m \u001b[49m\u001b[43marray\u001b[49m\u001b[43m(\u001b[49m\u001b[43m_fr0\u001b[49m\u001b[43m(\u001b[49m\u001b[43mvalue\u001b[49m\u001b[43m)\u001b[49m\u001b[43m[\u001b[49m\u001b[32;43m0\u001b[39;49m\u001b[43m]\u001b[49m\u001b[43m,\u001b[49m\u001b[43m \u001b[49m\u001b[38;5;28;43mself\u001b[39;49m\u001b[43m.\u001b[49m\u001b[43mftype\u001b[49m\u001b[43m)\u001b[49m\n",
      "\u001b[36mFile \u001b[39m\u001b[32m~/.local/lib/python3.12/site-packages/numpy/_core/arrayprint.py:1700\u001b[39m, in \u001b[36m_array_str_implementation\u001b[39m\u001b[34m(a, max_line_width, precision, suppress_small, array2string)\u001b[39m\n\u001b[32m   1693\u001b[39m \u001b[38;5;66;03m# the str of 0d arrays is a special case: It should appear like a scalar,\u001b[39;00m\n\u001b[32m   1694\u001b[39m \u001b[38;5;66;03m# so floats are not truncated by `precision`, and strings are not wrapped\u001b[39;00m\n\u001b[32m   1695\u001b[39m \u001b[38;5;66;03m# in quotes. So we return the str of the scalar value.\u001b[39;00m\n\u001b[32m   1696\u001b[39m \u001b[38;5;28;01mif\u001b[39;00m a.shape == ():\n\u001b[32m   1697\u001b[39m     \u001b[38;5;66;03m# obtain a scalar and call str on it, avoiding problems for subclasses\u001b[39;00m\n\u001b[32m   1698\u001b[39m     \u001b[38;5;66;03m# for which indexing with () returns a 0d instead of a scalar by using\u001b[39;00m\n\u001b[32m   1699\u001b[39m     \u001b[38;5;66;03m# ndarray's getindex. Also guard against recursive 0d object arrays.\u001b[39;00m\n\u001b[32m-> \u001b[39m\u001b[32m1700\u001b[39m     \u001b[38;5;28;01mreturn\u001b[39;00m _guarded_repr_or_str(\u001b[43mnp\u001b[49m\u001b[43m.\u001b[49m\u001b[43mndarray\u001b[49m.\u001b[34m__getitem__\u001b[39m(a, ()))\n\u001b[32m   1702\u001b[39m \u001b[38;5;28;01mreturn\u001b[39;00m array2string(a, max_line_width, precision, suppress_small, \u001b[33m'\u001b[39m\u001b[33m \u001b[39m\u001b[33m'\u001b[39m, \u001b[33m\"\u001b[39m\u001b[33m\"\u001b[39m)\n",
      "\u001b[31mAttributeError\u001b[39m: module 'numpy' has no attribute 'ndarray'"
     ]
    }
   ],
   "source": [
    "import pandas as pd\n",
    "import numpy as np\n",
    "\n",
    "data = pd.read_csv(\"world_population.csv\")\n",
    "\n",
    "np.random.seed(0)\n",
    "data.head()\n",
    "missing_values_count = data.isnull().sum()\n",
    "missing_values_count[0:10]\n",
    "\n",
    "total_cells = np.prod(data.shape)\n",
    "total_missing = missing_values_count.sum()\n",
    "\n",
    "percent_missing = (total_missing/total_cells) * 100\n",
    "print(percent_missing)\n",
    "missing_values_count[0:10]\n",
    "\n",
    "data.dropna()\n",
    "columns_with_na_dropped = data.dropna(axis=1)\n",
    "columns_with_na_dropped.head()\n",
    "\n",
    "print(\"Columns in original dataset: %d \\n\" % data.shape[1])\n",
    "print(\"Columns with na's dropped: %d\" % columns_with_na_dropped.shape[1])\n",
    "\n",
    "subset_data = data.loc[:, 'Rank':'2020 Population'].head()\n",
    "subset_data\n",
    "\n",
    "subset_data.fillna(0)\n",
    "subset_data.fillna(method='bfill', axis=0).fillna(0)\n"
   ]
  },
  {
   "cell_type": "code",
   "execution_count": null,
   "id": "23054b7a",
   "metadata": {},
   "outputs": [],
   "source": [
    "\n",
    "\n"
   ]
  }
 ],
 "metadata": {
  "kernelspec": {
   "display_name": "Python 3",
   "language": "python",
   "name": "python3"
  },
  "language_info": {
   "codemirror_mode": {
    "name": "ipython",
    "version": 3
   },
   "file_extension": ".py",
   "mimetype": "text/x-python",
   "name": "python",
   "nbconvert_exporter": "python",
   "pygments_lexer": "ipython3",
   "version": "3.12.1"
  }
 },
 "nbformat": 4,
 "nbformat_minor": 5
}
